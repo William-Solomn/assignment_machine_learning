{
 "cells": [
  {
   "cell_type": "markdown",
   "metadata": {
    "pycharm": {
     "name": "#%% md\n"
    }
   },
   "source": [
    "# Logistic Regression exercise"
   ]
  },
  {
   "cell_type": "markdown",
   "metadata": {},
   "source": [
    "# 先设置画图的分辨率、大小等信息"
   ]
  },
  {
   "cell_type": "code",
   "execution_count": 576,
   "metadata": {
    "collapsed": true,
    "pycharm": {
     "name": "#%%\n"
    }
   },
   "outputs": [
    {
     "name": "stdout",
     "output_type": "stream",
     "text": [
      "The autoreload extension is already loaded. To reload it, use:\n",
      "  %reload_ext autoreload\n"
     ]
    }
   ],
   "source": [
    "\n",
    "import matplotlib.pyplot as plt\n",
    "import numpy as np\n",
    "import pandas as pd\n",
    "\n",
    "%matplotlib inline\n",
    "plt.rcParams['figure.figsize'] = (15., 6.) # 设置figure_size的尺寸\n",
    "plt.rcParams['image.interpolation'] = 'nearest' # 设置插值风格\n",
    "plt.rcParams['image.cmap'] = 'gray' # 设置颜色style\n",
    "\n",
    "# 保证ipynb里的都是最新版本，在修改了模块代码后不用重新刷新kenel\n",
    "%load_ext autoreload\n",
    "%autoreload 2"
   ]
  },
  {
   "cell_type": "code",
   "execution_count": 577,
   "metadata": {
    "collapsed": true,
    "pycharm": {
     "is_executing": true,
     "name": "#%%\n"
    }
   },
   "outputs": [],
   "source": [
    "data = pd.read_csv('./datasets/MNIST.csv',header=0).values # 文件的第0行为列索引\n",
    "imgs = data[0::,1::] # 从第1行第2列开始的所有数据\n",
    "labels = data[::,0] # 第一列的所有数据为label"
   ]
  },
  {
   "cell_type": "code",
   "execution_count": 578,
   "metadata": {
    "pycharm": {
     "is_executing": true,
     "name": "#%%\n"
    }
   },
   "outputs": [
    {
     "name": "stdout",
     "output_type": "stream",
     "text": [
      "10\n"
     ]
    },
    {
     "data": {
      "image/png": "[encoded data removed]",
      "text/plain": [
       "<Figure size 1080x432 with 30 Axes>"
      ]
     },
     "metadata": {
      "needs_background": "light"
     },
     "output_type": "display_data"
    }
   ],
   "source": [
    "classes = range(10)\n",
    "num_classes = len(classes)\n",
    "samples_per_class =3\n",
    "for y, cls in enumerate(classes): # 采用枚举的方式循环\n",
    "    idxs = np.flatnonzero(labels == y) # 找到值为y的label的位置\n",
    "    idxs = np.random.choice(idxs, samples_per_class, replace=False)\n",
    "    for i, idx in enumerate(idxs):\n",
    "        plt_idx = i * num_classes + y + 1 # 在每次循环中找到idx中相应的y/label的位置\n",
    "        plt.subplot(samples_per_class, num_classes, plt_idx)\n",
    "        # print(plt_idx)\n",
    "        plt.imshow(imgs[idx].reshape(28,28).astype('uint8'))\n",
    "        plt.axis('off')\n",
    "        plt.title(cls)\n",
    "print(num_classes)\n",
    "plt.show()"
   ]
  },
  {
   "cell_type": "markdown",
   "metadata": {
    "pycharm": {
     "name": "#%% md\n"
    }
   },
   "source": [
    "# Binary classification\n",
    "We use the Logistic Regression to classification handwritten digits wheather it's zero or not. If the handwritten digits is '0' , then the label is 0, otherwise, the label is 1."
   ]
  },
  {
   "cell_type": "code",
   "execution_count": 579,
   "metadata": {
    "pycharm": {
     "name": "#%%\n"
    }
   },
   "outputs": [
    {
     "name": "stdout",
     "output_type": "stream",
     "text": [
      "(28000, 785)\n",
      "(14000, 785)\n"
     ]
    }
   ],
   "source": [
    "from bitstring import xrange\n",
    "\n",
    "# transform the labels to binary\n",
    "for i in xrange(len(labels)): # 循环遍历42000个label\n",
    "    if labels[i] != 0:\n",
    "        labels[i] = 1\n",
    "\n",
    "\n",
    "split_index = len(labels) * 2 // 3 # 取整，相除\n",
    "\n",
    "X_train = imgs[:split_index] # 从开头到整个数据集的2/3处，用于训练\n",
    "y_train = labels[:split_index]\n",
    "\n",
    "X_test = imgs[split_index:] # 从2/3处到1的数据集，用于测试\n",
    "y_test = labels[split_index:]\n",
    "\n",
    "'''\n",
    "例如，在生成“X_train”的过程中\n",
    "ones()函数负责生成(28000,1)的矩阵 \n",
    "X_train()负责将(28000,784)与(28000,1) merging into the matrix of(28000,785)\n",
    "'''\n",
    "X_train = np.hstack([X_train, np.ones((X_train.shape[0], 1))]) \n",
    "X_test = np.hstack([X_test, np.ones((X_test.shape[0], 1))])\n",
    "\n",
    "\n",
    "print (X_train.shape)\n",
    "print (X_test.shape)"
   ]
  },
  {
   "cell_type": "code",
   "execution_count": 580,
   "metadata": {
    "collapsed": true,
    "pycharm": {
     "name": "#%%\n"
    }
   },
   "outputs": [
    {
     "name": "stdout",
     "output_type": "stream",
     "text": [
      "[[-0.42419887 -0.42419887 -0.42419887 ... -0.42419887 -0.42419887\n",
      "  -0.41147529]\n",
      " [-0.42419887 -0.42419887 -0.42419887 ... -0.42419887 -0.42419887\n",
      "  -0.41147529]\n",
      " [-0.42419887 -0.42419887 -0.42419887 ... -0.42419887 -0.42419887\n",
      "  -0.41147529]\n",
      " ...\n",
      " [-0.42419887 -0.42419887 -0.42419887 ... -0.42419887 -0.42419887\n",
      "  -0.41147529]\n",
      " [-0.42419887 -0.42419887 -0.42419887 ... -0.42419887 -0.42419887\n",
      "  -0.41147529]\n",
      " [-0.42419887 -0.42419887 -0.42419887 ... -0.42419887 -0.42419887\n",
      "  -0.41147529]]\n",
      "——————————————————————————————————————————————————————————————\n",
      "[[-0.42459107 -0.42459107 -0.42459107 ... -0.42459107 -0.42459107\n",
      "  -0.41188779]\n",
      " [-0.42459107 -0.42459107 -0.42459107 ... -0.42459107 -0.42459107\n",
      "  -0.41188779]\n",
      " [-0.42459107 -0.42459107 -0.42459107 ... -0.42459107 -0.42459107\n",
      "  -0.41188779]\n",
      " ...\n",
      " [-0.42459107 -0.42459107 -0.42459107 ... -0.42459107 -0.42459107\n",
      "  -0.41188779]\n",
      " [-0.42459107 -0.42459107 -0.42459107 ... -0.42459107 -0.42459107\n",
      "  -0.41188779]\n",
      " [-0.42459107 -0.42459107 -0.42459107 ... -0.42459107 -0.42459107\n",
      "  -0.41188779]]\n"
     ]
    }
   ],
   "source": [
    "# X_train_feats = None # choose and extract features\n",
    "# X_test_feats = None # choose and extract features\n",
    "X_train_feats = (X_train - np.mean(X_train)) / np.std(X_train)\n",
    "X_test_feats = (X_test - np.mean(X_test)) / np.std(X_test)\n",
    "\n",
    "print(X_train_feats)\n",
    "print('——————————————————————————————————————————————————————————————')\n",
    "print(X_test_feats)"
   ]
  },
  {
   "cell_type": "code",
   "execution_count": 581,
   "metadata": {
    "pycharm": {
     "name": "#%%\n"
    }
   },
   "outputs": [
    {
     "data": {
      "image/png": "[encoded data removed]",
      "text/plain": [
       "<Figure size 1080x432 with 20 Axes>"
      ]
     },
     "metadata": {
      "needs_background": "light"
     },
     "output_type": "display_data"
    }
   ],
   "source": [
    "# Visualize some examples from the dataset.\n",
    "# We show a few examples of training images from each class.\n",
    "classes = range(2)\n",
    "num_classes = len(classes)\n",
    "samples_per_class = 10\n",
    "for y, cls in enumerate(classes):\n",
    "    idxs = np.flatnonzero(labels == y)\n",
    "    idxs = np.random.choice(idxs, samples_per_class, replace=False)\n",
    "    for i, idx in enumerate(idxs):\n",
    "        plt_idx = i * num_classes + y + 1\n",
    "        plt.subplot(samples_per_class, num_classes, plt_idx)\n",
    "        plt.imshow(imgs[idx].reshape(28,28).astype('uint8'))\n",
    "        plt.axis('off')\n",
    "        if i == 0:\n",
    "            plt.title(cls)\n",
    "plt.show()"
   ]
  },
  {
   "cell_type": "code",
   "execution_count": 582,
   "metadata": {
    "pycharm": {
     "name": "#%%\n"
    }
   },
   "outputs": [
    {
     "name": "stdout",
     "output_type": "stream",
     "text": [
      "iteration 0 / 150: loss 0.699891\n",
      "iteration 50 / 150: loss 0.024853\n",
      "iteration 100 / 150: loss 0.018461\n"
     ]
    }
   ],
   "source": [
    "from classifiers.logistic_regression import LogisticRegression\n",
    "\n",
    "# Start training. \n",
    "\n",
    "classifier = LogisticRegression()\n",
    "loss_history = classifier.train(\n",
    "    X_train_feats, \n",
    "    y_train,\n",
    "    learning_rate = 0.1,\n",
    "    num_iters = 150,\n",
    "    batch_size = 300, # 每次训练的数量，此数值越大，图像的方差越小\n",
    ")"
   ]
  },
  {
   "cell_type": "code",
   "execution_count": 583,
   "metadata": {
    "pycharm": {
     "name": "#%%\n"
    }
   },
   "outputs": [
    {
     "data": {
      "text/plain": [
       "[<matplotlib.lines.Line2D at 0x26b8b95a8f0>]"
      ]
     },
     "execution_count": 583,
     "metadata": {},
     "output_type": "execute_result"
    },
    {
     "data": {
      "image/png": "[encoded data removed]",
      "text/plain": [
       "<Figure size 1080x432 with 1 Axes>"
      ]
     },
     "metadata": {
      "needs_background": "light"
     },
     "output_type": "display_data"
    }
   ],
   "source": [
    "plt.plot(loss_history)"
   ]
  },
  {
   "cell_type": "code",
   "execution_count": 584,
   "metadata": {
    "pycharm": {
     "name": "#%%\n"
    }
   },
   "outputs": [
    {
     "name": "stdout",
     "output_type": "stream",
     "text": [
      "The accuracy socre is  0.99\n"
     ]
    }
   ],
   "source": [
    "y_test_pred = classifier.predict(X_test_feats)\n",
    "print(\"The accuracy socre is \", np.mean(y_test == y_test_pred))"
   ]
  },
  {
   "cell_type": "markdown",
   "metadata": {
    "pycharm": {
     "name": "#%% md\n"
    }
   },
   "source": [
    "\n",
    "### F1-Measure\n",
    "Notice that, if our model always output '1', totally ignoring the input X, we can get a accuracy 90%.So, in this assignment, accuracy is not efficient enough. \n",
    "\n",
    "We will use F1-Measure to evaluate our model.\n",
    "\n",
    "You may need this:\n",
    "[F1-Measure](https://baike.baidu.com/item/f-measure/913107?fr=aladdin)"
   ]
  },
  {
   "cell_type": "code",
   "execution_count": 585,
   "metadata": {
    "pycharm": {
     "name": "#%%\n"
    }
   },
   "outputs": [
    {
     "name": "stdout",
     "output_type": "stream",
     "text": [
      "0.9659090909090909\n",
      "0.9770114942528736\n",
      "F1: 0.9714285714285714\n"
     ]
    }
   ],
   "source": [
    "# Calculate the precision(准确率), recall(召回率) and F1\n",
    "# important： We should consider label '0' as 'positive' here. \n",
    "# That means 'True positive' ==> '(y_test == 0) and (y_test_pred == 0)'\n",
    "\n",
    "TP = 0.0\n",
    "FP = 0.0\n",
    "FN = 0.0\n",
    "TN = 0.0\n",
    "\n",
    "#calculate TP\n",
    "for it in range(785):\n",
    "    if y_test_pred[it] == 0 and y_test[it] == 0:\n",
    "        TP += 1.0\n",
    "# print TP\n",
    "\n",
    "#calculate FP\n",
    "for it in range(785):\n",
    "    if y_test_pred[it] == 0 and y_test[it] == 1:\n",
    "        FP += 1.0\n",
    "# print FP\n",
    "\n",
    "#calculate FN\n",
    "for it in range(785):\n",
    "    if y_test_pred[it] == 1 and y_test[it] == 0:\n",
    "        FN += 1.0\n",
    "# print FN\n",
    "\n",
    "#calculate TN\n",
    "for it in range(785):\n",
    "    if y_test_pred[it] == 1 and y_test[it] == 1:\n",
    "        TN += 1.0\n",
    "# print TN\n",
    "    \n",
    "precision = TP /(TP + FP)\n",
    "\n",
    "recall = TP / (TP + FN)\n",
    "    \n",
    "print(precision)\n",
    "print(recall)\n",
    "print('F1:', precision*recall*2/(precision+recall))"
   ]
  },
  {
   "cell_type": "markdown",
   "metadata": {
    "pycharm": {
     "name": "#%% md\n"
    }
   },
   "source": [
    "you should get the F1 higher than 85%."
   ]
  },
  {
   "cell_type": "markdown",
   "metadata": {
    "pycharm": {
     "name": "#%% md\n"
    }
   },
   "source": [
    "# Multiclass classification\n",
    "\n",
    "Now, we use the Logistic Regression to classification handwritten digits. There are 10 class, from '0' to '9'.\n",
    "\n",
    "\n",
    "Hint: The method \"one vs all\" may helpful. [Here is the introduction to \"one vs all\"](https://msdn.microsoft.com/library/en-us/Dn905887.aspx). "
   ]
  },
  {
   "cell_type": "code",
   "execution_count": 586,
   "metadata": {
    "pycharm": {
     "name": "#%%\n"
    }
   },
   "outputs": [
    {
     "name": "stdout",
     "output_type": "stream",
     "text": [
      "(28000, 785)\n",
      "(28000,)\n",
      "(14000, 785)\n"
     ]
    }
   ],
   "source": [
    "# Read the data for you\n",
    "data = pd.read_csv('./datasets/MNIST.csv',header=0).values # change the path by yourself\n",
    "imgs = data[0::,1::]\n",
    "labels = data[::,0]\n",
    "        \n",
    "# 2/3 training set\n",
    "# 1/3 test set\n",
    "split_index = len(labels) * 2 // 3\n",
    "X_train = imgs[:split_index]\n",
    "y_train = labels[:split_index]\n",
    "X_test = imgs[split_index:]\n",
    "y_test = labels[split_index:]\n",
    "\n",
    "X_train = np.hstack([X_train, np.ones((X_train.shape[0], 1))])\n",
    "X_test = np.hstack([X_test, np.ones((X_test.shape[0], 1))])\n",
    "\n",
    "# print y_train\n",
    "# print y_test\n",
    "\n",
    "print(X_train.shape)\n",
    "print(y_train.shape)\n",
    "print(X_test.shape)"
   ]
  },
  {
   "cell_type": "code",
   "execution_count": 587,
   "metadata": {
    "collapsed": true,
    "pycharm": {
     "name": "#%%\n"
    }
   },
   "outputs": [],
   "source": [
    "# X_train_feats = None # choose and extract features\n",
    "# X_test_feats = None # choose and extract features\n",
    "X_train_feats = (X_train - np.mean(X_train)) / np.std(X_train)\n",
    "X_test_feats = (X_test - np.mean(X_test)) / np.std(X_test)"
   ]
  },
  {
   "cell_type": "code",
   "execution_count": 588,
   "metadata": {
    "pycharm": {
     "name": "#%%\n"
    }
   },
   "outputs": [
    {
     "name": "stdout",
     "output_type": "stream",
     "text": [
      "it =  0\n",
      "iteration 0 / 500: loss 0.688514\n",
      "iteration 50 / 500: loss 0.302083\n",
      "iteration 100 / 500: loss 0.145416\n",
      "iteration 150 / 500: loss 0.111390\n",
      "iteration 200 / 500: loss 0.140845\n",
      "iteration 250 / 500: loss 0.082275\n",
      "iteration 300 / 500: loss 0.246802\n",
      "iteration 350 / 500: loss 0.098270\n",
      "iteration 400 / 500: loss 0.085653\n",
      "iteration 450 / 500: loss 0.055316\n",
      "it =  1\n",
      "iteration 0 / 500: loss 0.695488\n",
      "iteration 50 / 500: loss 0.198485\n",
      "iteration 100 / 500: loss 0.233720\n",
      "iteration 150 / 500: loss 0.146795\n",
      "iteration 200 / 500: loss 0.238826\n",
      "iteration 250 / 500: loss 0.205350\n",
      "iteration 300 / 500: loss 0.172797\n",
      "iteration 350 / 500: loss 0.099324\n",
      "iteration 400 / 500: loss 0.124555\n",
      "iteration 450 / 500: loss 0.102598\n",
      "it =  2\n",
      "iteration 0 / 500: loss 0.708613\n",
      "iteration 50 / 500: loss 0.264435\n",
      "iteration 100 / 500: loss 0.211985\n",
      "iteration 150 / 500: loss 0.293621\n",
      "iteration 200 / 500: loss 0.191632\n",
      "iteration 250 / 500: loss 0.183518\n",
      "iteration 300 / 500: loss 0.126161\n",
      "iteration 350 / 500: loss 0.234902\n",
      "iteration 400 / 500: loss 0.145587\n",
      "iteration 450 / 500: loss 0.137793\n",
      "it =  3\n",
      "iteration 0 / 500: loss 0.707262\n",
      "iteration 50 / 500: loss 0.317343\n",
      "iteration 100 / 500: loss 0.353469\n",
      "iteration 150 / 500: loss 0.353382\n",
      "iteration 200 / 500: loss 0.251795\n",
      "iteration 250 / 500: loss 0.226142\n",
      "iteration 300 / 500: loss 0.193915\n",
      "iteration 350 / 500: loss 0.281950\n",
      "iteration 400 / 500: loss 0.168984\n",
      "iteration 450 / 500: loss 0.126663\n",
      "it =  4\n",
      "iteration 0 / 500: loss 0.684778\n",
      "iteration 50 / 500: loss 0.307159\n",
      "iteration 100 / 500: loss 0.215887\n",
      "iteration 150 / 500: loss 0.380553\n",
      "iteration 200 / 500: loss 0.201829\n",
      "iteration 250 / 500: loss 0.215548\n",
      "iteration 300 / 500: loss 0.192065\n",
      "iteration 350 / 500: loss 0.196391\n",
      "iteration 400 / 500: loss 0.125104\n",
      "iteration 450 / 500: loss 0.091848\n",
      "it =  5\n",
      "iteration 0 / 500: loss 0.698868\n",
      "iteration 50 / 500: loss 0.371970\n",
      "iteration 100 / 500: loss 0.315106\n",
      "iteration 150 / 500: loss 0.270528\n",
      "iteration 200 / 500: loss 0.206934\n",
      "iteration 250 / 500: loss 0.222259\n",
      "iteration 300 / 500: loss 0.304060\n",
      "iteration 350 / 500: loss 0.216034\n",
      "iteration 400 / 500: loss 0.218680\n",
      "iteration 450 / 500: loss 0.216584\n",
      "it =  6\n",
      "iteration 0 / 500: loss 0.687590\n",
      "iteration 50 / 500: loss 0.339038\n",
      "iteration 100 / 500: loss 0.257634\n",
      "iteration 150 / 500: loss 0.236771\n",
      "iteration 200 / 500: loss 0.250775\n",
      "iteration 250 / 500: loss 0.204922\n",
      "iteration 300 / 500: loss 0.263721\n",
      "iteration 350 / 500: loss 0.205545\n",
      "iteration 400 / 500: loss 0.128110\n",
      "iteration 450 / 500: loss 0.166381\n",
      "it =  7\n",
      "iteration 0 / 500: loss 0.686350\n",
      "iteration 50 / 500: loss 0.299071\n",
      "iteration 100 / 500: loss 0.273568\n",
      "iteration 150 / 500: loss 0.192317\n",
      "iteration 200 / 500: loss 0.247303\n",
      "iteration 250 / 500: loss 0.192979\n",
      "iteration 300 / 500: loss 0.259806\n",
      "iteration 350 / 500: loss 0.132864\n",
      "iteration 400 / 500: loss 0.170391\n",
      "iteration 450 / 500: loss 0.146250\n",
      "it =  8\n",
      "iteration 0 / 500: loss 0.695931\n",
      "iteration 50 / 500: loss 0.314473\n",
      "iteration 100 / 500: loss 0.317620\n",
      "iteration 150 / 500: loss 0.350182\n",
      "iteration 200 / 500: loss 0.154924\n",
      "iteration 250 / 500: loss 0.322662\n",
      "iteration 300 / 500: loss 0.156170\n",
      "iteration 350 / 500: loss 0.270834\n",
      "iteration 400 / 500: loss 0.279367\n",
      "iteration 450 / 500: loss 0.168459\n",
      "it =  9\n",
      "iteration 0 / 500: loss 0.692793\n",
      "iteration 50 / 500: loss 0.362440\n",
      "iteration 100 / 500: loss 0.353574\n",
      "iteration 150 / 500: loss 0.234024\n",
      "iteration 200 / 500: loss 0.289031\n",
      "iteration 250 / 500: loss 0.295613\n",
      "iteration 300 / 500: loss 0.237293\n",
      "iteration 350 / 500: loss 0.191490\n",
      "iteration 400 / 500: loss 0.180866\n",
      "iteration 450 / 500: loss 0.207316\n"
     ]
    }
   ],
   "source": [
    "# Start training. \n",
    "\n",
    "classifier = LogisticRegression()\n",
    "classifier.one_vs_all(\n",
    "    X_train_feats, \n",
    "    y_train,\n",
    "    learning_rate = 1e-3,\n",
    "    num_iters = 500,\n",
    "    batch_size = 64,\n",
    ")"
   ]
  },
  {
   "cell_type": "code",
   "execution_count": 589,
   "metadata": {
    "pycharm": {
     "name": "#%%\n"
    }
   },
   "outputs": [
    {
     "name": "stdout",
     "output_type": "stream",
     "text": [
      "The accruacy socre is  0.0\n"
     ]
    }
   ],
   "source": [
    "y_test_pred = classifier.one_vs_all_predict(X_test_feats)\n",
    "print( \"The accruacy socre is \", np.mean(y_test == y_test_pred))"
   ]
  },
  {
   "cell_type": "code",
   "execution_count": null,
   "metadata": {
    "collapsed": true,
    "pycharm": {
     "name": "#%%\n"
    }
   },
   "outputs": [],
   "source": []
  }
 ],
 "metadata": {
  "kernelspec": {
   "display_name": "Python 3.10.3 64-bit",
   "language": "python",
   "name": "python3"
  },
  "language_info": {
   "codemirror_mode": {
    "name": "ipython",
    "version": 3
   },
   "file_extension": ".py",
   "mimetype": "text/x-python",
   "name": "python",
   "nbconvert_exporter": "python",
   "pygments_lexer": "ipython3",
   "version": "3.10.3"
  },
  "vscode": {
   "interpreter": {
    "hash": "0f1ab23fbacad80b7f3bb6cdd94dc6ee2362018540745c64dac7e2e355ab2096"
   }
  }
 },
 "nbformat": 4,
 "nbformat_minor": 2
}
